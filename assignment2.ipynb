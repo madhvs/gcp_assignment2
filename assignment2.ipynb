{
 "cells": [
  {
   "cell_type": "code",
   "execution_count": 5,
   "id": "120e6281",
   "metadata": {},
   "outputs": [
    {
     "name": "stderr",
     "output_type": "stream",
     "text": [
      "/home/zadmin/genai/lib/python3.11/site-packages/tqdm/auto.py:21: TqdmWarning: IProgress not found. Please update jupyter and ipywidgets. See https://ipywidgets.readthedocs.io/en/stable/user_install.html\n",
      "  from .autonotebook import tqdm as notebook_tqdm\n"
     ]
    }
   ],
   "source": [
    "import pandas as pd\n",
    "from langchain_google_genai import GoogleGenerativeAIEmbeddings\n",
    "\n",
    "import os"
   ]
  },
  {
   "cell_type": "code",
   "execution_count": 6,
   "id": "9a5b786a",
   "metadata": {},
   "outputs": [],
   "source": [
    "df = pd.read_csv(\"https://raw.githubusercontent.com/Bluedata-Consulting/GAAPB01-training-code-base/refs/heads/main/Assignments/assignment2dataset.csv\")"
   ]
  },
  {
   "cell_type": "code",
   "execution_count": 7,
   "id": "416a6614",
   "metadata": {},
   "outputs": [
    {
     "data": {
      "text/html": [
       "<div>\n",
       "<style scoped>\n",
       "    .dataframe tbody tr th:only-of-type {\n",
       "        vertical-align: middle;\n",
       "    }\n",
       "\n",
       "    .dataframe tbody tr th {\n",
       "        vertical-align: top;\n",
       "    }\n",
       "\n",
       "    .dataframe thead th {\n",
       "        text-align: right;\n",
       "    }\n",
       "</style>\n",
       "<table border=\"1\" class=\"dataframe\">\n",
       "  <thead>\n",
       "    <tr style=\"text-align: right;\">\n",
       "      <th></th>\n",
       "      <th>course_id</th>\n",
       "      <th>title</th>\n",
       "      <th>description</th>\n",
       "    </tr>\n",
       "  </thead>\n",
       "  <tbody>\n",
       "    <tr>\n",
       "      <th>0</th>\n",
       "      <td>C001</td>\n",
       "      <td>Foundations of Machine Learning</td>\n",
       "      <td>Understand foundational machine learning algor...</td>\n",
       "    </tr>\n",
       "    <tr>\n",
       "      <th>1</th>\n",
       "      <td>C002</td>\n",
       "      <td>Deep Learning with TensorFlow and Keras</td>\n",
       "      <td>Explore neural network architectures using Ten...</td>\n",
       "    </tr>\n",
       "  </tbody>\n",
       "</table>\n",
       "</div>"
      ],
      "text/plain": [
       "  course_id                                    title  \\\n",
       "0      C001          Foundations of Machine Learning   \n",
       "1      C002  Deep Learning with TensorFlow and Keras   \n",
       "\n",
       "                                         description  \n",
       "0  Understand foundational machine learning algor...  \n",
       "1  Explore neural network architectures using Ten...  "
      ]
     },
     "execution_count": 7,
     "metadata": {},
     "output_type": "execute_result"
    }
   ],
   "source": [
    "df.head(2)"
   ]
  },
  {
   "cell_type": "code",
   "execution_count": 8,
   "id": "47fd989f",
   "metadata": {},
   "outputs": [],
   "source": [
    "import chromadb\n",
    "chroma_client = chromadb.Client()\n",
    "collection = chroma_client.create_collection(name=\"madhan_assignment_2\")\n",
    "embeddings = GoogleGenerativeAIEmbeddings(model=\"models/gemini-embedding-001\")"
   ]
  },
  {
   "cell_type": "code",
   "execution_count": 10,
   "id": "450dda68",
   "metadata": {},
   "outputs": [
    {
     "name": "stdout",
     "output_type": "stream",
     "text": [
      "Successfully added 25 documents to ChromaDB collection\n",
      "Collection count: 25\n"
     ]
    }
   ],
   "source": [
    "\n",
    "\n",
    "# Prepare data for ChromaDB\n",
    "ids = df['course_id'].tolist()\n",
    "documents = df['description'].tolist()  # ChromaDB stores the original text as documents\n",
    "metadatas = []\n",
    "description_embeddings = []\n",
    "for desc in df['description']:\n",
    "    embedding_vector = embeddings.embed_query(desc)\n",
    "    description_embeddings.append(embedding_vector)\n",
    "# Create metadata with id and name for each document\n",
    "for _, row in df.iterrows():\n",
    "    metadata = {\n",
    "        'course_id': row['course_id'],\n",
    "        'title': row['title']\n",
    "    }\n",
    "    metadatas.append(metadata)\n",
    "\n",
    "# Add data to collection\n",
    "collection.add(\n",
    "    embeddings=description_embeddings,\n",
    "    documents=documents,\n",
    "    metadatas=metadatas,\n",
    "    ids=ids\n",
    ")\n",
    "\n",
    "print(f\"Successfully added {len(df)} documents to ChromaDB collection\")\n",
    "print(f\"Collection count: {collection.count()}\")"
   ]
  },
  {
   "cell_type": "code",
   "execution_count": 20,
   "id": "5f5ee2be",
   "metadata": {},
   "outputs": [
    {
     "name": "stdout",
     "output_type": "stream",
     "text": [
      "\n",
      "Your query : \n",
      "I’ve completed the ‘Python Programming for Data Science’ course and enjoy data visualization. What should I take next?\n",
      "Recommended course for you : \n",
      "['C014', 'C015', 'C017']\n",
      "['Data Visualization with Tableau', 'Business Intelligence with Power BI', 'R Programming and Statistical Analysis']\n",
      "********************\n",
      "\n",
      "\n",
      "Your query : \n",
      "I know Azure basics and want to manage containers and build CI/CD pipelines. Recommend courses.\n",
      "Recommended course for you : \n",
      "['C009', 'C008']\n",
      "['Containerization with Docker and Kubernetes', 'DevOps Practices and CI/CD']\n",
      "********************\n",
      "\n",
      "\n",
      "Your query : \n",
      "My background is in ML fundamentals; I’d like to specialize in neural networks and production workflows.\n",
      "Recommended course for you : \n",
      "['C002', 'C025']\n",
      "['Deep Learning with TensorFlow and Keras', 'MLOps: Productionizing Machine Learning']\n",
      "********************\n",
      "\n",
      "\n",
      "Your query : \n",
      "I want to learn to build and deploy microservices with Kubernetes—what courses fit best?\n",
      "Recommended course for you : \n",
      "['C009', 'C010', 'C007']\n",
      "['Containerization with Docker and Kubernetes', 'APIs and Microservices Architecture', 'Cloud Computing with Azure']\n",
      "********************\n",
      "\n",
      "\n",
      "Your query : \n",
      "I’m interested in blockchain and smart contracts but have no prior experience. Which courses do you suggest?\n",
      "Recommended course for you : \n",
      "['C023']\n",
      "['Blockchain Technology and Smart Contracts']\n",
      "********************\n",
      "\n"
     ]
    }
   ],
   "source": [
    "from google import genai\n",
    "from pydantic import BaseModel\n",
    "import json\n",
    "\n",
    "# Define the output schema\n",
    "class CourseRecommendation(BaseModel):\n",
    "    course_id: list\n",
    "    title: list\n",
    "\n",
    "def get_course_recommendation(user_query: str, project_id: str, location: str):\n",
    "\n",
    "    vector = embeddings.embed_query(user_query)\n",
    "    query_results = collection.query(\n",
    "        query_embeddings=vector,\n",
    "        n_results=10\n",
    "    )\n",
    "\n",
    "\n",
    "    for i, (doc, metadata, distance) in enumerate(zip(\n",
    "        query_results['documents'][0], \n",
    "        query_results['metadatas'][0],\n",
    "        query_results['distances'][0]\n",
    "    )):\n",
    "\n",
    "        course_data = [\n",
    "        {\n",
    "            \"course_id\": meta['course_id'],\n",
    "            \"title\": meta['title'],\n",
    "            \"description\": doc\n",
    "        }\n",
    "        for meta, doc in zip(query_results['metadatas'][0], query_results['documents'][0])\n",
    "        ]\n",
    "\n",
    "    client = genai.Client(vertexai=True, project=project_id, location=location)\n",
    "    \n",
    "    # Create the prompt\n",
    "    prompt = f\"\"\"\n",
    "    Based on the user query and available course data, recommend the most  suitable courses.\n",
    "    \n",
    "    User Query: {user_query}\n",
    "    \n",
    "    Available Courses:\n",
    "    {json.dumps(course_data, indent=2)}\n",
    "    \n",
    "    Return one or more course_ids and title of the most recommended courses in the following JSON format:\n",
    "    {{\"course_id\": [], \"title\": []}}\n",
    "    \n",
    "    Do not include any other text or explanation.\n",
    "    \"\"\"\n",
    "    \n",
    "    response = client.models.generate_content(\n",
    "        model='gemini-2.0-flash',\n",
    "        contents=[prompt],\n",
    "        config={\n",
    "            \"response_schema\": CourseRecommendation.model_json_schema(),\n",
    "            \"response_mime_type\" : \"application/json\"\n",
    "        }\n",
    "    )\n",
    "    \n",
    "    # Parse and return the structured response\n",
    "    return json.loads(response.text)\n",
    "\n",
    "# Example usage\n",
    "if __name__ == \"__main__\":\n",
    "    PROJECT_ID = \"bdc-trainings\"\n",
    "    LOCATION = os.environ.get(\"GOOGLE_CLOUD_REGION\", \"us-central1\")\n",
    "    user_queries = [\n",
    "    \"I’ve completed the ‘Python Programming for Data Science’ course and enjoy data visualization. What should I take next?\"\n",
    "    ,\"I know Azure basics and want to manage containers and build CI/CD pipelines. Recommend courses.\"\n",
    "    ,\"My background is in ML fundamentals; I’d like to specialize in neural networks and production workflows.\"\n",
    "    ,\"I want to learn to build and deploy microservices with Kubernetes—what courses fit best?\"\n",
    "    ,\"I’m interested in blockchain and smart contracts but have no prior experience. Which courses do you suggest?\"\n",
    "    ]\n",
    "\n",
    "    # user_query = input()\n",
    "    for user_query in user_queries:\n",
    "        result = get_course_recommendation(user_query, PROJECT_ID, LOCATION)\n",
    "        print ()\n",
    "        print (\"Your query : \")\n",
    "        print (user_query)\n",
    "        print (\"Recommended course for you : \")\n",
    "        print(result['course_id'])\n",
    "        print(result['title'])\n",
    "        print (\"********************\")\n",
    "        print ()\n",
    "    # Expected output: {\"course_id\": \"C014\", \"title\": \"Data Visualization with Tableau\"}"
   ]
  },
  {
   "cell_type": "code",
   "execution_count": null,
   "id": "c1998333",
   "metadata": {},
   "outputs": [
    {
     "name": "stdout",
     "output_type": "stream",
     "text": [
      "1321324\n"
     ]
    }
   ],
   "source": []
  },
  {
   "cell_type": "code",
   "execution_count": null,
   "id": "213010ab",
   "metadata": {},
   "outputs": [],
   "source": []
  },
  {
   "cell_type": "code",
   "execution_count": null,
   "id": "2e12c511",
   "metadata": {},
   "outputs": [],
   "source": []
  }
 ],
 "metadata": {
  "kernelspec": {
   "display_name": "genai",
   "language": "python",
   "name": "python3"
  },
  "language_info": {
   "codemirror_mode": {
    "name": "ipython",
    "version": 3
   },
   "file_extension": ".py",
   "mimetype": "text/x-python",
   "name": "python",
   "nbconvert_exporter": "python",
   "pygments_lexer": "ipython3",
   "version": "3.11.13"
  }
 },
 "nbformat": 4,
 "nbformat_minor": 5
}
